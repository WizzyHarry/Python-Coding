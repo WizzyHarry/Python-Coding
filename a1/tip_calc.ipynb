{
 "cells": [
  {
   "cell_type": "markdown",
   "id": "e8a9a552-755f-42af-ad66-b13da5d3421a",
   "metadata": {},
   "source": [
    "## Tip Calculator\n",
    "\n",
    "**Developer:** Keith Faunce\n",
    "\n",
    "**Course:** LIS4369\n",
    "\n",
    "**Semester:** Fall 2024\n",
    "\n",
    "**Program Requirements:**\n",
    "  1. Must use float data type for user input except, \"Party Num\"\n",
    "  2. Must round calculations to two decimal places.\n",
    "  3. Must format currency with dollar sign, and two decimal places."
   ]
  },
  {
   "cell_type": "code",
   "execution_count": 1,
   "id": "dc78ba24-81c7-403e-a4ab-b009d8a17639",
   "metadata": {},
   "outputs": [
    {
     "name": "stdout",
     "output_type": "stream",
     "text": [
      "\n",
      "User Input:\n"
     ]
    },
    {
     "name": "stdin",
     "output_type": "stream",
     "text": [
      "Cost of meal:  50\n",
      "Tax percent:  10\n",
      "Tip percent:  20\n",
      "Party number:  2\n"
     ]
    }
   ],
   "source": [
    "print(\"\\nUser Input:\")\n",
    "meal_cost = float(input(\"Cost of meal: \"))\n",
    "tax_percent = float(input(\"Tax percent: \"))\n",
    "tip_percent = float(input(\"Tip percent: \"))\n",
    "people_num = int(input(\"Party number: \"))"
   ]
  },
  {
   "cell_type": "code",
   "execution_count": 2,
   "id": "48b78ebe-b260-4324-a3a4-f38676e2c5b6",
   "metadata": {},
   "outputs": [],
   "source": [
    "# calculate tax, tip and total\n",
    "tax_amount = round(meal_cost * (tax_percent / 100), 2) # convert to percentage\n",
    "due_amount = round(meal_cost + tax_amount, 2)\n",
    "tip_amount = round((due_amount) * (tip_percent / 100), 2)\n",
    "total = round(meal_cost + tax_amount + tip_amount, 2)\n",
    "split = round(total / people_num, 2)"
   ]
  },
  {
   "cell_type": "code",
   "execution_count": 3,
   "id": "a315616c-9536-44f2-80fe-a7070a13b059",
   "metadata": {},
   "outputs": [
    {
     "name": "stdout",
     "output_type": "stream",
     "text": [
      "\n",
      "Program Output:\n",
      "Subtotal:\t $50.00\n",
      "Tax:\t\t $5.00\n",
      "Amount Due:\t $55.00\n",
      "Gratuity:\t $11.00\n",
      "Total:\t\t $66.00\n",
      "Split(2):\t $33.00\n"
     ]
    }
   ],
   "source": [
    "# display results\n",
    "# Formatting:\n",
    "# NEW!: https://realpython.com/pyhton-f-strings/\n",
    "# https://docs.python.org/3/library/string.html#format-specification-mini-language\n",
    "# https://docs.python.org/3/library/string.html#formatexamples\n",
    "# https://mkaz.blog/code/python-string-format-cookbook/\n",
    "print(\"\\nProgram Output:\")\n",
    "print(\"Subtotal:\\t\", \"${0:,.2f}\".format(meal_cost))\n",
    "print(\"Tax:\\t\\t\", \"${0:,.2f}\".format(tax_amount))\n",
    "print(\"Amount Due:\\t\", \"${0:,.2f}\".format(due_amount))\n",
    "print(\"Gratuity:\\t\", \"${0:,.2f}\".format(tip_amount))\n",
    "print(\"Total:\\t\\t\", \"${0:,.2f}\".format(total))\n",
    "print(\"Split\" + \"(\" + str(people_num) + \"):\\t\", \"${0:,.2f}\".format(split))"
   ]
  }
 ],
 "metadata": {
  "kernelspec": {
   "display_name": "Python 3 (ipykernel)",
   "language": "python",
   "name": "python3"
  },
  "language_info": {
   "codemirror_mode": {
    "name": "ipython",
    "version": 3
   },
   "file_extension": ".py",
   "mimetype": "text/x-python",
   "name": "python",
   "nbconvert_exporter": "python",
   "pygments_lexer": "ipython3",
   "version": "3.11.7"
  }
 },
 "nbformat": 4,
 "nbformat_minor": 5
}
