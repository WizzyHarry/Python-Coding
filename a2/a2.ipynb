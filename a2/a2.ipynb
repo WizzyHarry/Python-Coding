{
 "cells": [
  {
   "cell_type": "code",
   "execution_count": 1,
   "id": "8bdccea3-2b28-4e80-ad99-499b73247ad8",
   "metadata": {},
   "outputs": [],
   "source": [
    "def get_requirements():\n",
    "    print(\"Payroll Calculator\")\n",
    "    print(\"\\nProgram Requirements:\\n\"\n",
    "          + \"1. Developed by Keith Faunce\\n\"\n",
    "          + \"2. Must use float data type for user input.\\n\"\n",
    "          + \"3. Overtime rate: 1.5 times hourly rate (hours over 40).\\n\"\n",
    "          + \"4. Holiday rate: 2.0 times hourly rate (all holiday hours).\\n\"\n",
    "          + \"5. Must format currency with dollar sign, and round to two decimal places.\\n\"\n",
    "          + \"6. Create at least three functions that are called by the program:\\n\"\n",
    "          + \"\\ta. main(): calls at least two other functions.\\n\"\n",
    "          + \"\\tb. get_requirements(): displays the program requirements.\\n\"\n",
    "          + \"\\tc. calculate_payroll(): calculates an individuals one-week paycheck.\\n\")\n"
   ]
  },
  {
   "cell_type": "code",
   "execution_count": 2,
   "id": "9f8109dd-efb3-4198-9c12-fe600ca36a81",
   "metadata": {},
   "outputs": [],
   "source": [
    "def calculate_payroll():\n",
    "    # constants to represent base hours, overtime and holiday rates\n",
    "    # Note: python doesn't provide true constants\n",
    "    BASE_HOURS = 40.0     # base hours\n",
    "    OT_RATE = 1.5       # overtime rate\n",
    "    HOLIDAY_RATE = 2.0  # holiday rate\n",
    "\n",
    "    # IPO: Input > Process > Output\n",
    "    # Get user data\n",
    "    print(\"Input:\")\n",
    "    # Get hours worked and hourly pay rate\n",
    "    hours = float(input('Enter hours worked: '))\n",
    "    holiday_hours = float(input('Enter holiday hours: '))\n",
    "    pay_rate = float(input('Enter hourly pay rate: '))\n",
    "\n",
    "    # Process:\n",
    "    # Calculations\n",
    "    base_pay = BASE_HOURS * pay_rate\n",
    "    overtime_hours = hours - BASE_HOURS\n",
    "\n",
    "    # Calculate and Display gross pay\n",
    "    if hours > BASE_HOURS:\n",
    "        # Calculate gross pay with overtime\n",
    "\n",
    "        # Calculate overtime pay\n",
    "        overtime_pay = overtime_hours * pay_rate * OT_RATE\n",
    "\n",
    "        # Calculate holiday pay\n",
    "        holiday_pay = holiday_hours * pay_rate * HOLIDAY_RATE\n",
    "\n",
    "        # Calculate gross pay\n",
    "        gross_pay = BASE_HOURS * pay_rate + overtime_pay + holiday_pay\n",
    "        # print_pay(base_pay, overtime_pay, holiday_pay, gross_pay)\n",
    "    else:\n",
    "        # Calculate gross pay without overtime, but include holiday pay\n",
    "        overtime_pay = 0\n",
    "        holiday_pay = holiday_hours * pay_rate * HOLIDAY_RATE\n",
    "        gross_pay = hours * pay_rate + holiday_pay\n",
    "\n",
    "        # Display pay\n",
    "    print_pay(base_pay, overtime_pay, holiday_pay, gross_pay)\n",
    "\n",
    "    \n",
    "\n",
    "    # two steps:\n",
    "    # 1) right-align with spaces\n",
    "    # 2) currency symbol, with thousand seperator, and decimal places\n",
    "    # print(\"\\nBase: {:>15}\".format('${:,.2f}'.format(base_pay)))\n",
    "\n",
    "    # Passing integer after ':' causes field to be a minimum number of characters wide\n",
    "\n",
    "    # fox x in range(1, 11):\n",
    "    # print('{0:2d} {1:3d} {2:4d}'.format(x, x * x, x * x * x))"
   ]
  },
  {
   "cell_type": "code",
   "execution_count": 3,
   "id": "c5c53b01-0bea-4bda-9fbc-810a92336711",
   "metadata": {},
   "outputs": [],
   "source": [
    "\n",
    "def print_pay(base_pay, overtime_pay, holiday_pay, gross_pay):\n",
    "    print(\"\\nOutput:\")\n",
    "    print(\"{0:<10} ${1:,.2f}\".format('Base:', base_pay))\n",
    "    print(\"{0:<10} ${1:,.2f}\".format('Overtime:', overtime_pay))\n",
    "    print(\"{0:<10} ${1:,.2f}\".format('Holiday:', holiday_pay))\n",
    "    print(\"{0:<10} ${1:,.2f}\".format('Gross:', gross_pay))"
   ]
  },
  {
   "cell_type": "code",
   "execution_count": 7,
   "id": "c44cd643-7d98-4451-a8a1-577856a7f1ce",
   "metadata": {},
   "outputs": [
    {
     "name": "stdout",
     "output_type": "stream",
     "text": [
      "Payroll Calculator\n",
      "\n",
      "Program Requirements:\n",
      "1. Developed by Keith Faunce\n",
      "2. Must use float data type for user input.\n",
      "3. Overtime rate: 1.5 times hourly rate (hours over 40).\n",
      "4. Holiday rate: 2.0 times hourly rate (all holiday hours).\n",
      "5. Must format currency with dollar sign, and round to two decimal places.\n",
      "6. Create at least three functions that are called by the program:\n",
      "\ta. main(): calls at least two other functions.\n",
      "\tb. get_requirements(): displays the program requirements.\n",
      "\tc. calculate_payroll(): calculates an individuals one-week paycheck.\n",
      "\n",
      "Input:\n"
     ]
    },
    {
     "name": "stdin",
     "output_type": "stream",
     "text": [
      "Enter hours worked:  40\n",
      "Enter holiday hours:  10\n",
      "Enter hourly pay rate:  10\n"
     ]
    },
    {
     "name": "stdout",
     "output_type": "stream",
     "text": [
      "\n",
      "Output:\n",
      "Base:      $400.00\n",
      "Overtime:  $0.00\n",
      "Holiday:   $200.00\n",
      "Gross:     $600.00\n",
      "\n"
     ]
    }
   ],
   "source": [
    " import bug_functions as f\n",
    "\n",
    "\n",
    "def main():\n",
    "\n",
    "\n",
    "    f.get_requirements()\n",
    "    f.calculate_payroll()\n",
    "\n",
    "\n",
    "if __name__ == \"__main__\":\n",
    "    main()\n"
   ]
  },
  {
   "cell_type": "code",
   "execution_count": 8,
   "id": "5bbca428-dc31-4330-a552-45756393a071",
   "metadata": {},
   "outputs": [
    {
     "name": "stdout",
     "output_type": "stream",
     "text": [
      "Payroll Calculator\n",
      "\n",
      "Program Requirements:\n",
      "1. Developed by Keith Faunce\n",
      "2. Must use float data type for user input.\n",
      "3. Overtime rate: 1.5 times hourly rate (hours over 40).\n",
      "4. Holiday rate: 2.0 times hourly rate (all holiday hours).\n",
      "5. Must format currency with dollar sign, and round to two decimal places.\n",
      "6. Create at least three functions that are called by the program:\n",
      "\ta. main(): calls at least two other functions.\n",
      "\tb. get_requirements(): displays the program requirements.\n",
      "\tc. calculate_payroll(): calculates an individuals one-week paycheck.\n",
      "\n",
      "Input:\n"
     ]
    },
    {
     "name": "stdin",
     "output_type": "stream",
     "text": [
      "Enter hours worked:  50\n",
      "Enter holiday hours:  10\n",
      "Enter hourly pay rate:  10\n"
     ]
    },
    {
     "name": "stdout",
     "output_type": "stream",
     "text": [
      "\n",
      "Output:\n",
      "Base:      $400.00\n",
      "Overtime:  $150.00\n",
      "Holiday:   $200.00\n",
      "Gross:     $750.00\n",
      "\n"
     ]
    }
   ],
   "source": [
    "if __name__ == \"__main__\":\n",
    "    main()"
   ]
  },
  {
   "cell_type": "code",
   "execution_count": null,
   "id": "aba1cce6-85ed-4372-9ef8-9c46421fcd29",
   "metadata": {},
   "outputs": [],
   "source": []
  }
 ],
 "metadata": {
  "kernelspec": {
   "display_name": "Python 3 (ipykernel)",
   "language": "python",
   "name": "python3"
  },
  "language_info": {
   "codemirror_mode": {
    "name": "ipython",
    "version": 3
   },
   "file_extension": ".py",
   "mimetype": "text/x-python",
   "name": "python",
   "nbconvert_exporter": "python",
   "pygments_lexer": "ipython3",
   "version": "3.11.7"
  }
 },
 "nbformat": 4,
 "nbformat_minor": 5
}
