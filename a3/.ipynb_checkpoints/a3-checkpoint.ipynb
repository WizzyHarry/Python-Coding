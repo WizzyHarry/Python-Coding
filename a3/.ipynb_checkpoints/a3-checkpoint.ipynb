{
 "cells": [
  {
   "cell_type": "code",
   "execution_count": 1,
   "id": "7e19ef2d-143c-476d-801e-6d8012409b2d",
   "metadata": {},
   "outputs": [],
   "source": [
    "SQFT_PER_GALLON = 350  # Constant square feet per gallon\n",
    "\n",
    "def get_requirements():\n",
    "    print(\"Interior Paint Estimator\")\n",
    "    print(\"Developed by Keith Faunce\")\n",
    "    print(\"\\nProgram Requirements:\\n\"\n",
    "          \"1. Calculate home interior paint cost (w/o primer).\\n\"\n",
    "          \"2. Must use float data types.\\n\"\n",
    "          f\"3. Must use {SQFT_PER_GALLON} constant for square feet per gallon.\\n\"\n",
    "          \"4. Must use iteration structure (loop).\\n\"\n",
    "          \"5. Format, right-align numbers, and round to two decimal places.\\n\"\n",
    "          \"6. Create at least five functions to be called by the program.\\n\"\n",
    "            + \"a. main(): calls two other functions: get_requirements() and estimate_painting_cost()\\n\"\n",
    "            + \"b. get_requirements(): displays the program requirements.\\n\"\n",
    "            + \"c. estimate_painting_cost(): calculates interior home painting, and calls print functions.\\n\"\n",
    "            + \"d. print_painting_estimate(): displays painting costs.\\n\"\n",
    "            + \"e. print_painting_percentage(): displays painting cost percentages.\\n\")\n"
   ]
  },
  {
   "cell_type": "code",
   "execution_count": 2,
   "id": "a4ba6a04-7433-4252-b4b7-b8a9e8086045",
   "metadata": {},
   "outputs": [],
   "source": [
    "def get_user_input(): \n",
    "    # Input statements specifying float data types\n",
    "    total_sq_ft = float(input(\"Enter total interior sq ft: \"))\n",
    "    price_per_gallon = float(input(\"Enter price per gallon paint: \"))\n",
    "    hourly_rate_per_sq_ft = float(input(\"Enter hourly painting rate per sq ft: \"))\n",
    "    \n",
    "    return total_sq_ft, price_per_gallon, hourly_rate_per_sq_ft"
   ]
  },
  {
   "cell_type": "code",
   "execution_count": 3,
   "id": "fc8ec6c3-03a2-4b6b-8f56-31a412105b1c",
   "metadata": {},
   "outputs": [],
   "source": [
    "def estimate_painting_cost(total_sq_ft, price_per_gallon, hourly_rate_per_sq_ft): \n",
    "    # Calculates variable data for print statements\n",
    "    num_gallons = total_sq_ft / SQFT_PER_GALLON\n",
    "    paint_cost = num_gallons * price_per_gallon\n",
    "    labor_cost = total_sq_ft * hourly_rate_per_sq_ft\n",
    "    total_cost = paint_cost + labor_cost\n",
    "    \n",
    "    return num_gallons, paint_cost, labor_cost, total_cost"
   ]
  },
  {
   "cell_type": "code",
   "execution_count": 4,
   "id": "fd3261dd-af2b-4c35-928a-a161bdf840d2",
   "metadata": {},
   "outputs": [],
   "source": [
    "def print_painting_estimate(total_sq_ft, num_gallons, paint_cost, labor_cost, total_cost, price_per_gallon, hourly_rate_per_sq_ft):\n",
    "    # Print statements with formatting commands\n",
    "    # Arranged in table esque view \n",
    "    print(f\"\\n{'Item':<20}{'Amount':>10}\") \n",
    "    print(f\"{'Total Sq Ft:':<20}{total_sq_ft:>10.2f}\") \n",
    "    print(f\"{'Sq Ft per Gallon:':<20}{SQFT_PER_GALLON:>10.2f}\") \n",
    "    print(f\"{'Number of Gallons:':<20}{num_gallons:>10.2f}\")\n",
    "    print(f\"{'Paint per Gallon:':<20}{price_per_gallon:>10.2f}\")\n",
    "    print(f\"{'Labor per Sq Ft:':<20}{hourly_rate_per_sq_ft:>10.2f}\")\n",
    "    \n",
    "    # Print cost for job at hand\n",
    "    print(f\"\\n{'Cost':<20}{'Amount':>10}\")\n",
    "    print(f\"{'Paint:':<20}${paint_cost:>10.2f}\") \n",
    "    print(f\"{'Labor:':<20}${labor_cost:>10.2f}\")\n",
    "    print(f\"{'Total:':<20}${total_cost:>10.2f}\")"
   ]
  },
  {
   "cell_type": "code",
   "execution_count": 5,
   "id": "5eb7455a-bdf1-4640-9b96-e041547483ac",
   "metadata": {},
   "outputs": [],
   "source": [
    "\n",
    "def print_painting_percentage(paint_cost, labor_cost, total_cost):\n",
    "    # Print percentages to show cost share\n",
    "    paint_percentage = (paint_cost / total_cost) * 100 \n",
    "    labor_percentage = (labor_cost / total_cost) * 100\n",
    "    print(f\"\\n{'Cost':<20}{'Percentage':>10}\")\n",
    "    print(f\"{'Paint:':<20}{paint_percentage:>10.2f}%\")\n",
    "    print(f\"{'Labor:':<20}{labor_percentage:>10.2f}%\")\n",
    "    print(f\"{'Total:':<20}{100.00:>10.2f}%\")\n"
   ]
  },
  {
   "cell_type": "code",
   "execution_count": 6,
   "id": "2febad52-911f-410a-bf49-b61a9a1e22ab",
   "metadata": {},
   "outputs": [
    {
     "name": "stdout",
     "output_type": "stream",
     "text": [
      "Interior Paint Estimator\n",
      "Developed by Keith Faunce\n",
      "\n",
      "Program Requirements:\n",
      "1. Calculate home interior paint cost (w/o primer).\n",
      "2. Must use float data types.\n",
      "3. Must use 350 constant for square feet per gallon.\n",
      "4. Must use iteration structure (loop).\n",
      "5. Format, right-align numbers, and round to two decimal places.\n",
      "6. Create at least five functions to be called by the program.\n",
      "a. main(): calls two other functions: get_requirements() and estimate_painting_cost()\n",
      "b. get_requirements(): displays the program requirements.\n",
      "c. estimate_painting_cost(): calculates interior home painting, and calls print functions.\n",
      "d. print_painting_estimate(): displays painting costs.\n",
      "e. print_painting_percentage(): displays painting cost percentages.\n",
      "\n"
     ]
    },
    {
     "name": "stdin",
     "output_type": "stream",
     "text": [
      "Enter total interior sq ft:  2500\n",
      "Enter price per gallon paint:  30\n",
      "Enter hourly painting rate per sq ft:  2\n"
     ]
    },
    {
     "name": "stdout",
     "output_type": "stream",
     "text": [
      "\n",
      "Item                    Amount\n",
      "Total Sq Ft:           2500.00\n",
      "Sq Ft per Gallon:       350.00\n",
      "Number of Gallons:        7.14\n",
      "Paint per Gallon:        30.00\n",
      "Labor per Sq Ft:          2.00\n",
      "\n",
      "Cost                    Amount\n",
      "Paint:              $    214.29\n",
      "Labor:              $   5000.00\n",
      "Total:              $   5214.29\n",
      "\n",
      "Cost                Percentage\n",
      "Paint:                    4.11%\n",
      "Labor:                   95.89%\n",
      "Total:                  100.00%\n"
     ]
    },
    {
     "name": "stdin",
     "output_type": "stream",
     "text": [
      "Estimate another paint job? (y/n):  y\n",
      "Enter total interior sq ft:  3000\n",
      "Enter price per gallon paint:  40\n",
      "Enter hourly painting rate per sq ft:  2\n"
     ]
    },
    {
     "name": "stdout",
     "output_type": "stream",
     "text": [
      "\n",
      "Item                    Amount\n",
      "Total Sq Ft:           3000.00\n",
      "Sq Ft per Gallon:       350.00\n",
      "Number of Gallons:        8.57\n",
      "Paint per Gallon:        40.00\n",
      "Labor per Sq Ft:          2.00\n",
      "\n",
      "Cost                    Amount\n",
      "Paint:              $    342.86\n",
      "Labor:              $   6000.00\n",
      "Total:              $   6342.86\n",
      "\n",
      "Cost                Percentage\n",
      "Paint:                    5.41%\n",
      "Labor:                   94.59%\n",
      "Total:                  100.00%\n"
     ]
    },
    {
     "name": "stdin",
     "output_type": "stream",
     "text": [
      "Estimate another paint job? (y/n):  n\n"
     ]
    }
   ],
   "source": [
    "import paint_functions as f\n",
    "\n",
    "def main():\n",
    "    f.get_requirements()\n",
    "    \n",
    "    while True:\n",
    "        # Input for painting variables\n",
    "        total_sq_ft, price_per_gallon, hourly_rate_per_sq_ft = f.get_user_input()\n",
    "        \n",
    "        # Estimate painting costs\n",
    "        num_gallons, paint_cost, labor_cost, total_cost = f.estimate_painting_cost(total_sq_ft, price_per_gallon, hourly_rate_per_sq_ft)\n",
    "        \n",
    "        # Print statements for estimations & percentages\n",
    "        f.print_painting_estimate(total_sq_ft, num_gallons, paint_cost, labor_cost, total_cost, price_per_gallon, hourly_rate_per_sq_ft)\n",
    "        f.print_painting_percentage(paint_cost, labor_cost, total_cost)\n",
    "        \n",
    "        # End loop through user input\n",
    "        if input(\"Estimate another paint job? (y/n): \").lower() != 'y':\n",
    "            break\n",
    "\n",
    "if __name__ == \"__main__\":\n",
    "    main()\n"
   ]
  },
  {
   "cell_type": "code",
   "execution_count": null,
   "id": "3c94f0c8-905a-4003-8b53-d52deca5dc9e",
   "metadata": {},
   "outputs": [],
   "source": []
  }
 ],
 "metadata": {
  "kernelspec": {
   "display_name": "Python 3 (ipykernel)",
   "language": "python",
   "name": "python3"
  },
  "language_info": {
   "codemirror_mode": {
    "name": "ipython",
    "version": 3
   },
   "file_extension": ".py",
   "mimetype": "text/x-python",
   "name": "python",
   "nbconvert_exporter": "python",
   "pygments_lexer": "ipython3",
   "version": "3.9.15"
  }
 },
 "nbformat": 4,
 "nbformat_minor": 5
}
